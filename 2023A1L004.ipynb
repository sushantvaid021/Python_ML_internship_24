{
 "cells": [
  {
   "cell_type": "code",
   "execution_count": 18,
   "id": "26b524af-a3b9-4610-8d11-632b723565fd",
   "metadata": {},
   "outputs": [
    {
     "name": "stdout",
     "output_type": "stream",
     "text": [
      "    *\n",
      "   **\n",
      "  ***\n",
      " ****\n",
      "*****\n"
     ]
    }
   ],
   "source": [
    "n = 5\n",
    "for i in range(1, n+1):\n",
    "        print(' '*(n-i) + \"*\" * i)"
   ]
  },
  {
   "cell_type": "code",
   "execution_count": 21,
   "id": "14552e51-e6ac-4db2-bc69-8b7f95823bdd",
   "metadata": {},
   "outputs": [
    {
     "ename": "IndentationError",
     "evalue": "unindent does not match any outer indentation level (<string>, line 16)",
     "output_type": "error",
     "traceback": [
      "\u001b[1;36m  File \u001b[1;32m<string>:16\u001b[1;36m\u001b[0m\n\u001b[1;33m    except ZeroDivisionError:\u001b[0m\n\u001b[1;37m                             ^\u001b[0m\n\u001b[1;31mIndentationError\u001b[0m\u001b[1;31m:\u001b[0m unindent does not match any outer indentation level\n"
     ]
    }
   ],
   "source": [
    "def get_number(prompt):\n",
    "    while True:\n",
    "        try:\n",
    "            return float(input(prompt))\n",
    "        except ValueError:\n",
    "            print(\"Invalid Input. Kindly enter a valid number\")\n",
    "\n",
    "def divide_numbers():\n",
    "    while True:\n",
    "        try:\n",
    "            num1 = get_number(\"Enter first number : \")\n",
    "            num2 = get_number(\"Enter second number : \")\n",
    "            result = num1/num2\n",
    "            print(f\"The result of dividing {num1} by {num2} is : {result}\")\n",
    "            break\n",
    "         except ZeroDivisionError:\n",
    "            print(\"Error: Cannot Divide by Zero. Please Dont try again\")\n",
    "\n",
    "divide_numbers()            "
   ]
  },
  {
   "cell_type": "code",
   "execution_count": 27,
   "id": "54ba4b2e-c1e3-4b22-b9dc-0366ffa99efb",
   "metadata": {},
   "outputs": [
    {
     "name": "stdin",
     "output_type": "stream",
     "text": [
      "Enter first number :  8\n",
      "Enter second number :  0\n"
     ]
    },
    {
     "name": "stdout",
     "output_type": "stream",
     "text": [
      "Error: Cannot Divide by Zero. Please Dont try again\n"
     ]
    },
    {
     "name": "stdin",
     "output_type": "stream",
     "text": [
      "Enter first number :  21\n",
      "Enter second number :  12\n"
     ]
    },
    {
     "name": "stdout",
     "output_type": "stream",
     "text": [
      "The result of dividing 21.0 by 12.0 is : 1.75\n"
     ]
    }
   ],
   "source": [
    "def get_number(prompt):\n",
    "    while True:\n",
    "        try:\n",
    "            return float(input(prompt))\n",
    "        except ValueError:\n",
    "            print(\"Invalid Input. Kindly enter a valid number\")\n",
    "\n",
    "def divide_numbers():\n",
    "    while True:\n",
    "        try:\n",
    "            num1 = get_number(\"Enter first number : \")\n",
    "            num2 = get_number(\"Enter second number : \")\n",
    "            result = num1/num2\n",
    "            print(f\"The result of dividing {num1} by {num2} is : {result}\")\n",
    "            break\n",
    "        except ZeroDivisionError:\n",
    "             print(\"Error: Cannot Divide by Zero. Please Dont try again\")\n",
    "\n",
    "divide_numbers()            "
   ]
  },
  {
   "cell_type": "code",
   "execution_count": null,
   "id": "43f1fa7b-b437-4454-a780-1783292eead7",
   "metadata": {},
   "outputs": [],
   "source": []
  }
 ],
 "metadata": {
  "kernelspec": {
   "display_name": "Python 3 (ipykernel)",
   "language": "python",
   "name": "python3"
  },
  "language_info": {
   "codemirror_mode": {
    "name": "ipython",
    "version": 3
   },
   "file_extension": ".py",
   "mimetype": "text/x-python",
   "name": "python",
   "nbconvert_exporter": "python",
   "pygments_lexer": "ipython3",
   "version": "3.12.4"
  }
 },
 "nbformat": 4,
 "nbformat_minor": 5
}
